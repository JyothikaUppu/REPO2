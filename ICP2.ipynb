{
  "nbformat": 4,
  "nbformat_minor": 0,
  "metadata": {
    "colab": {
      "provenance": []
    },
    "kernelspec": {
      "name": "python3",
      "display_name": "Python 3"
    },
    "language_info": {
      "name": "python"
    }
  },
  "cells": [
    {
      "cell_type": "code",
      "execution_count": 1,
      "metadata": {
        "colab": {
          "base_uri": "https://localhost:8080/"
        },
        "id": "WEcTEtk4FPNl",
        "outputId": "29c3f6f6-556b-4b70-c344-5e304fd12840"
      },
      "outputs": [
        {
          "output_type": "stream",
          "name": "stdout",
          "text": [
            "* \n",
            "* * \n",
            "* * * \n",
            "* * * * \n",
            "* * * * * \n",
            "* * * * \n",
            "* * * \n",
            "* * \n",
            "* \n"
          ]
        }
      ],
      "source": [
        "#1\n",
        "rows = 5  # Number of rows in the pattern\n",
        "\n",
        "for i in range(1, rows + 1):\n",
        "    for j in range(i):\n",
        "        print(\"*\", end=\" \")\n",
        "    print()\n",
        "\n",
        "for i in range(rows - 1, 0, -1):\n",
        "    for j in range(i):\n",
        "        print(\"*\", end=\" \")\n",
        "    print()\n"
      ]
    },
    {
      "cell_type": "code",
      "source": [
        "#2\n",
        "my_list = [10, 20, 30, 40, 50, 60, 70, 80, 90, 100]\n",
        "\n",
        "# Loop through the list using the index\n",
        "for i in range(len(my_list)):\n",
        "    # Check if the index is odd\n",
        "    if i % 2 != 0:\n",
        "        print(my_list[i])"
      ],
      "metadata": {
        "colab": {
          "base_uri": "https://localhost:8080/"
        },
        "id": "44YCITXPFwvp",
        "outputId": "fc1eddf8-df5c-43e2-cd34-67985ca94ffb"
      },
      "execution_count": 2,
      "outputs": [
        {
          "output_type": "stream",
          "name": "stdout",
          "text": [
            "20\n",
            "40\n",
            "60\n",
            "80\n",
            "100\n"
          ]
        }
      ]
    },
    {
      "cell_type": "code",
      "source": [
        "x = [23, 'Python', 23.98]\n",
        "\n",
        "# Print the input list\n",
        "print(x)\n",
        "\n",
        "# Create a list to store the types of elements\n",
        "types_list = []\n",
        "\n",
        "# Loop through each element in the input list and append its type to the types_list\n",
        "for element in x:\n",
        "    types_list.append(type(element))\n",
        "\n",
        "# Print the types_list\n",
        "print(types_list)"
      ],
      "metadata": {
        "colab": {
          "base_uri": "https://localhost:8080/"
        },
        "id": "ZdPiV6euF1MF",
        "outputId": "f86df83a-a097-40c6-b7f3-dd94d2f67bc1"
      },
      "execution_count": 3,
      "outputs": [
        {
          "output_type": "stream",
          "name": "stdout",
          "text": [
            "[23, 'Python', 23.98]\n",
            "[<class 'int'>, <class 'str'>, <class 'float'>]\n"
          ]
        }
      ]
    },
    {
      "cell_type": "code",
      "source": [
        "#4\n",
        "# Sample List\n",
        "sample_list = [1, 2, 3, 3, 3, 3, 4, 5]\n",
        "\n",
        "# Create an empty list to store unique items\n",
        "unique_list = []\n",
        "\n",
        "# Create a set to keep track of seen items\n",
        "seen = set()\n",
        "\n",
        "# Loop through each item in the sample list\n",
        "for item in sample_list:\n",
        "    # If the item is not in the seen set, add it to the unique list and the seen set\n",
        "    if item not in seen:\n",
        "        unique_list.append(item)\n",
        "        seen.add(item)\n",
        "\n",
        "# Print the sample list and the unique list\n",
        "print(\"Sample List:\", sample_list)\n",
        "print(\"Unique List:\", unique_list)"
      ],
      "metadata": {
        "colab": {
          "base_uri": "https://localhost:8080/"
        },
        "id": "9OYdndjOF6GO",
        "outputId": "518b3df5-32f7-419e-fd89-cf074972ca9e"
      },
      "execution_count": 4,
      "outputs": [
        {
          "output_type": "stream",
          "name": "stdout",
          "text": [
            "Sample List: [1, 2, 3, 3, 3, 3, 4, 5]\n",
            "Unique List: [1, 2, 3, 4, 5]\n"
          ]
        }
      ]
    },
    {
      "cell_type": "code",
      "source": [
        "#5\n",
        "# Input String\n",
        "input_string = 'The quick Brow Fox'\n",
        "\n",
        "# Initialize counters for upper-case and lower-case letters\n",
        "upper_count = 0\n",
        "lower_count = 0\n",
        "\n",
        "# Loop through each character in the string\n",
        "for char in input_string:\n",
        "    if char.isupper():\n",
        "        upper_count += 1\n",
        "    elif char.islower():\n",
        "        lower_count += 1\n",
        "\n",
        "# Print the results\n",
        "print(f\"No. of Upper-case characters: {upper_count}\")\n",
        "print(f\"No. of Lower-case Characters: {lower_count}\")"
      ],
      "metadata": {
        "colab": {
          "base_uri": "https://localhost:8080/"
        },
        "id": "Fpm9kAIwF-zA",
        "outputId": "64fe639e-3fb8-4c47-b07d-d71825deaf37"
      },
      "execution_count": 5,
      "outputs": [
        {
          "output_type": "stream",
          "name": "stdout",
          "text": [
            "No. of Upper-case characters: 3\n",
            "No. of Lower-case Characters: 12\n"
          ]
        }
      ]
    }
  ]
}